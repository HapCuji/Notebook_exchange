{
 "cells": [
  {
   "cell_type": "markdown",
   "metadata": {},
   "source": [
    "# This repo contains an introduction to Jupyter and IPython.\n",
    "\n",
    "Outline of some basics:\n",
    "\n",
    "    Notebook Basics\n",
    "    IPython - beyond plain python\n",
    "    Markdown Cells\n",
    "    Rich Display System\n",
    "    Custom Display logic\n",
    "    Running a Secure Public Notebook Server\n",
    "    How Jupyter works to run code in different languages.\n",
    "\n",
    "You can also get this tutorial and run it on your laptop:\n",
    "\n",
    "git clone https://github.com/ipython/ipython-in-depth\n",
    "\n",
    "Install IPython and Jupyter:\n",
    "\n",
    "with conda:\n",
    "\n",
    "conda install ipython jupyter\n",
    "\n",
    "with pip:\n",
    "\n",
    "# first, always upgrade pip!\n",
    "pip install --upgrade pip\n",
    "pip install --upgrade ipython jupyter\n",
    "\n",
    "Start the notebook in the tutorial directory:\n",
    "\n",
    "cd ipython-in-depth\n",
    "jupyter notebook"
   ]
  },
  {
   "cell_type": "code",
   "execution_count": 1,
   "metadata": {},
   "outputs": [],
   "source": [
    "!pip install --upgrade pip\n",
    "!pip install --upgrade ipython jupyter\n",
    "!pip install pandas\n",
    "!pip install numpy\n",
    "!pip install matplotlib\n",
    "!pip install sklearn"
   ]
  },
  {
   "cell_type": "code",
   "execution_count": 2,
   "metadata": {},
   "outputs": [
    {
     "ename": "ModuleNotFoundError",
     "evalue": "No module named 'pandas'",
     "output_type": "error",
     "traceback": [
      "\u001b[0;31m---------------------------------------------------------------------------\u001b[0m",
      "\u001b[0;31mModuleNotFoundError\u001b[0m                       Traceback (most recent call last)",
      "\u001b[0;32m<ipython-input-2-b64cad1554a5>\u001b[0m in \u001b[0;36m<module>\u001b[0;34m\u001b[0m\n\u001b[0;32m----> 1\u001b[0;31m \u001b[0;32mimport\u001b[0m \u001b[0mpandas\u001b[0m \u001b[0;32mas\u001b[0m \u001b[0mpd\u001b[0m\u001b[0;34m\u001b[0m\u001b[0;34m\u001b[0m\u001b[0m\n\u001b[0m\u001b[1;32m      2\u001b[0m \u001b[0;32mimport\u001b[0m \u001b[0mnumpy\u001b[0m \u001b[0;32mas\u001b[0m \u001b[0mnp\u001b[0m\u001b[0;34m\u001b[0m\u001b[0;34m\u001b[0m\u001b[0m\n\u001b[1;32m      3\u001b[0m \u001b[0;32mimport\u001b[0m \u001b[0mmatplotlib\u001b[0m\u001b[0;34m.\u001b[0m\u001b[0mpyplot\u001b[0m \u001b[0;32mas\u001b[0m \u001b[0mplt\u001b[0m\u001b[0;34m\u001b[0m\u001b[0;34m\u001b[0m\u001b[0m\n\u001b[1;32m      4\u001b[0m \u001b[0;34m\u001b[0m\u001b[0m\n\u001b[1;32m      5\u001b[0m \u001b[0mget_ipython\u001b[0m\u001b[0;34m(\u001b[0m\u001b[0;34m)\u001b[0m\u001b[0;34m.\u001b[0m\u001b[0mrun_line_magic\u001b[0m\u001b[0;34m(\u001b[0m\u001b[0;34m'matplotlib'\u001b[0m\u001b[0;34m,\u001b[0m \u001b[0;34m'inline'\u001b[0m\u001b[0;34m)\u001b[0m\u001b[0;34m\u001b[0m\u001b[0;34m\u001b[0m\u001b[0m\n",
      "\u001b[0;31mModuleNotFoundError\u001b[0m: No module named 'pandas'"
     ]
    }
   ],
   "source": [
    "import pandas as pd\n",
    "import numpy as np\n",
    "import matplotlib.pyplot as plt\n",
    "\n",
    "%matplotlib inline\n",
    "\n",
    "plt.style.use('ggplot')\n",
    "plt.rcParams['figure.figsize'] = (12,5)\n",
    "\n",
    "df_wine = pd.read_csv('https://archive.ics.uci.edu/ml/machine-learning-databases/wine-quality/winequality-red.csv', sep=';')\n",
    "\n",
    "df_wine.head()"
   ]
  },
  {
   "cell_type": "code",
   "execution_count": null,
   "metadata": {},
   "outputs": [],
   "source": [
    "\n",
    "def prepocess_wine(df):\n",
    "    df.loc[:, 'quality_cat'] = (df.loc[:, 'quality'] > 5).astype(int)\n",
    "    df = df.drop('quality', axis=1)\n",
    "    \n",
    "    return df\n",
    "\n",
    "df_wine = df_wine.pipe(prepocess_wine)\n",
    "df_wine.head()\n"
   ]
  },
  {
   "cell_type": "code",
   "execution_count": null,
   "metadata": {},
   "outputs": [],
   "source": [
    "\n",
    "df_wine_test = pd.read_csv('https://archive.ics.uci.edu/ml/machine-learning-databases/wine-quality/winequality-white.csv',\n",
    "                           sep=';')\n",
    "\n",
    "df_wine_test = df_wine_test.pipe(prepocess_wine)\n",
    "df_wine_test.head()"
   ]
  },
  {
   "cell_type": "code",
   "execution_count": null,
   "metadata": {},
   "outputs": [],
   "source": [
    "_, ax = plt.subplots(1,1)\n",
    "df_wine.query('quality_cat == 1').hist('alcohol', alpha=0.3, bins=20, label='good', ax=ax)\n",
    "df_wine.query('quality_cat == 0').hist('alcohol', alpha=0.3, bins=20, label='bad', ax=ax)\n",
    "ax.set_xlabel('alcohol')\n",
    "ax.set_ylabel('count')\n",
    "plt.legend()"
   ]
  },
  {
   "cell_type": "code",
   "execution_count": null,
   "metadata": {},
   "outputs": [],
   "source": [
    "X, y = df_wine.iloc[:, :-1].values, df_wine.iloc[:, -1].values\n",
    "\n",
    "from sklearn.base import BaseEstimator, ClassifierMixin\n",
    "\n",
    "class SimpleClassifier(BaseEstimator, ClassifierMixin): \n",
    "    \n",
    "    def __init__(self):\n",
    "        \"\"\"\n",
    "        Инициализация метода\n",
    "        \"\"\"\n",
    "        \n",
    "        self.threshold = 0\n",
    "\n",
    "    def fit(self, X, y=None):\n",
    "        \"\"\"\n",
    "        Выполняет процедуру обучения классификатора. В данном случае - перебор занчения признака alcohol.\n",
    "        Договоримся, что признак alcohol будет в последнем столбце матрицы X\n",
    "        \"\"\"\n",
    "        \n",
    "        alcohol = X[:,-1]\n",
    "        n = float(y.shape[0])\n",
    "        \n",
    "        # Задаем пространство поиска\n",
    "        alco_range = np.arange(alcohol.min(), alcohol.max(), 0.1)\n",
    "        \n",
    "        min_error_rate = 1\n",
    "                \n",
    "        #  Начинаем поиск\n",
    "        for theta in alco_range:\n",
    "            prediction = alcohol > theta\n",
    "            \n",
    "            error_rate = sum(prediction != y)/n\n",
    "            \n",
    "            if error_rate < min_error_rate:\n",
    "                min_error_rate = error_rate\n",
    "                self.threshold = theta  \n",
    "        \n",
    "        return self\n",
    "\n",
    "    def predict(self, X, y=None):\n",
    "        \"\"\"\n",
    "        Процедура предсказания класса по обученному порогу\n",
    "        \"\"\"\n",
    "        \n",
    "        return (X[:,-1] > self.threshold).astype(int)\n",
    "    \n",
    "\n",
    "model = SimpleClassifier()\n",
    "model.fit(X, y)\n",
    "\n",
    "print ('Оптимальный порог: %f' % model.threshold)"
   ]
  },
  {
   "cell_type": "code",
   "execution_count": null,
   "metadata": {},
   "outputs": [],
   "source": [
    "y_hat = model.predict(X)\n",
    "\n",
    "error_rate = sum(y_hat != y)/float(y.shape[0])\n",
    "print ('Доля ошибок на обучающей выборке: %f' % error_rate)\n"
   ]
  },
  {
   "cell_type": "code",
   "execution_count": null,
   "metadata": {},
   "outputs": [],
   "source": [
    "X_test, y_test = df_wine_test.iloc[:, :-1].values, df_wine_test.iloc[:, -1].values\n",
    "y_hat = model.predict(X_test)\n",
    "\n",
    "error_rate = sum(y_hat != y_test)/float(y_test.shape[0])\n",
    "print ('Доля ошибок на контрольной выборке: %f' % error_rate)"
   ]
  },
  {
   "cell_type": "code",
   "execution_count": null,
   "metadata": {},
   "outputs": [],
   "source": []
  }
 ],
 "metadata": {
  "kernelspec": {
   "display_name": "Python 3",
   "language": "python",
   "name": "python3"
  },
  "language_info": {
   "codemirror_mode": {
    "name": "ipython",
    "version": 3
   },
   "file_extension": ".py",
   "mimetype": "text/x-python",
   "name": "python",
   "nbconvert_exporter": "python",
   "pygments_lexer": "ipython3",
   "version": "3.7.3"
  },
  "widgets": {
   "application/vnd.jupyter.widget-state+json": {
    "state": {},
    "version_major": 2,
    "version_minor": 0
   }
  }
 },
 "nbformat": 4,
 "nbformat_minor": 2
}
